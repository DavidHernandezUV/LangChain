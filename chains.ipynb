{
 "cells": [
  {
   "cell_type": "markdown",
   "metadata": {},
   "source": [
    "# Environment Variables"
   ]
  },
  {
   "cell_type": "code",
   "execution_count": 1,
   "metadata": {},
   "outputs": [],
   "source": [
    "from dotenv import dotenv_values, load_dotenv\n",
    "config = dotenv_values(\".env\")\n",
    "OPENAI_API_KEY={**config}[\"OPENAI_API_KEY\"]"
   ]
  },
  {
   "cell_type": "markdown",
   "metadata": {},
   "source": [
    "# Chains"
   ]
  },
  {
   "cell_type": "markdown",
   "metadata": {},
   "source": [
    "## LLMChain"
   ]
  },
  {
   "cell_type": "code",
   "execution_count": 3,
   "metadata": {},
   "outputs": [],
   "source": [
    "from langchain import LLMChain, OpenAI, PromptTemplate"
   ]
  },
  {
   "cell_type": "code",
   "execution_count": 5,
   "metadata": {},
   "outputs": [],
   "source": [
    "prompt ='''Eres un asistente virtual experto en {tema} y respondes con una lista de 3 conceptos clave sobre el mismo. Sólo enumeras los tres conceptos'''\n",
    "template = PromptTemplate.from_template(prompt)"
   ]
  },
  {
   "cell_type": "code",
   "execution_count": 13,
   "metadata": {},
   "outputs": [],
   "source": [
    "llm = OpenAI(openai_api_key=OPENAI_API_KEY) #modelo\n",
    "llm_chain = LLMChain(llm=llm, prompt=template) #cadena"
   ]
  },
  {
   "cell_type": "code",
   "execution_count": 14,
   "metadata": {},
   "outputs": [
    {
     "data": {
      "text/plain": [
       "' clave.\\n\\n1. Análisis de Datos\\n2. Aprendizaje Automático\\n3. Almacenamiento y Administración de Datos'"
      ]
     },
     "execution_count": 14,
     "metadata": {},
     "output_type": "execute_result"
    }
   ],
   "source": [
    "llm_chain.predict(tema=\"Ciencia de datos\")"
   ]
  },
  {
   "cell_type": "markdown",
   "metadata": {},
   "source": [
    "## SequantialChain\n",
    "Unir muchas cadenas secuencialmente que se ejecutan en orden.\n",
    "En síntesis esta clase permite hacer que la salida de un modelo sirva como entrada para otro.\n",
    "\n",
    "**Simple Sequential Chain** permite recibir una entrada y generar una salidas\n",
    "\n",
    "**Sequential Chain** permite recibir múltiples entradas y generar múltiples salidas"
   ]
  },
  {
   "cell_type": "code",
   "execution_count": 20,
   "metadata": {},
   "outputs": [],
   "source": [
    "from langchain.chains import SequentialChain"
   ]
  },
  {
   "cell_type": "code",
   "execution_count": 17,
   "metadata": {},
   "outputs": [],
   "source": [
    "llm = OpenAI(openai_api_key=OPENAI_API_KEY) #modelo\n",
    "prompt ='''Eres un asistente virtual experto en {tema} y respondes con una lista de 3 conceptos clave sobre el mismo. Sólo enumeras los tres conceptos'''\n",
    "template = PromptTemplate.from_template(prompt)\n",
    "chains_list = LLMChain(llm=llm, prompt=template, output_key=\"concepts_list\") #cadena"
   ]
  },
  {
   "cell_type": "markdown",
   "metadata": {},
   "source": [
    "Se arma una cadena que va a recibir la salida de la cadena *chains_list* y lo procesa para generar otro texto"
   ]
  },
  {
   "cell_type": "code",
   "execution_count": 18,
   "metadata": {},
   "outputs": [],
   "source": [
    "prompt = '''Eres un asistente virtual que recibe una lista de conceptos de un área de conocimiento y debe devolver cuál de esos conceptos es mejor aprender primero. Los conceptos son: {concepts_list}'''\n",
    "template = PromptTemplate.from_template(prompt)\n",
    "first_chain = LLMChain(llm=llm,prompt=template,output_key=\"where_start\")"
   ]
  },
  {
   "cell_type": "markdown",
   "metadata": {},
   "source": [
    "Anteriormente se definieron una cadena lista y una cadena inicio, ahora se unen las cadenas"
   ]
  },
  {
   "cell_type": "code",
   "execution_count": 22,
   "metadata": {},
   "outputs": [],
   "source": [
    "chains = SequentialChain(chains=[chains_list,first_chain],\n",
    "                         input_variables=[\"tema\"],\n",
    "                         output_variables=[\"concepts_list\",\"where_start\"],\n",
    "                         verbose=True)"
   ]
  },
  {
   "cell_type": "code",
   "execution_count": 23,
   "metadata": {},
   "outputs": [
    {
     "name": "stdout",
     "output_type": "stream",
     "text": [
      "\n",
      "\n",
      "\u001b[1m> Entering new SequentialChain chain...\u001b[0m\n",
      "\n",
      "\u001b[1m> Finished chain.\u001b[0m\n"
     ]
    },
    {
     "data": {
      "text/plain": [
       "{'tema': 'Física',\n",
       " 'concepts_list': '.\\n\\n1. Ley de la Gravitación Universal\\n2. Ley de la Inercia\\n3. Ley de los Seis Grados de Libertad.',\n",
       " 'where_start': '\\n\\nLa Ley de la Gravitación Universal es el mejor concepto para aprender primero. Esta ley describe cómo los objetos con masa interactúan entre sí a través de la fuerza de gravedad. La Ley de la Inercia describe cómo los objetos con masa responden a una aceleración, mientras que la Ley de los Seis Grados de Libertad describe cómo los objetos se mueven en tres dimensiones, lo que se conoce como movimiento libre.'}"
      ]
     },
     "execution_count": 23,
     "metadata": {},
     "output_type": "execute_result"
    }
   ],
   "source": [
    "chains({\"tema\":\"Física\"})"
   ]
  },
  {
   "cell_type": "markdown",
   "metadata": {},
   "source": [
    "### Sequencial Chains examples"
   ]
  },
  {
   "cell_type": "code",
   "execution_count": 29,
   "metadata": {},
   "outputs": [
    {
     "name": "stderr",
     "output_type": "stream",
     "text": [
      "c:\\Users\\usuario\\Desktop\\Code\\TG\\LangChain\\venv\\lib\\site-packages\\langchain\\chains\\llm_math\\base.py:56: UserWarning: Directly instantiating an LLMMathChain with an llm is deprecated. Please instantiate with llm_chain argument or using the from_llm class method.\n",
      "  warnings.warn(\n"
     ]
    },
    {
     "name": "stdout",
     "output_type": "stream",
     "text": [
      "\n",
      "\n",
      "\u001b[1m> Entering new LLMMathChain chain...\u001b[0m\n",
      "Cuánto es 12462x81 al cuadrado x 5\u001b[32;1m\u001b[1;3m```text\n",
      "12462*81**2 * 5\n",
      "```\n",
      "...numexpr.evaluate(\"12462*81**2 * 5\")...\n",
      "\u001b[0m\n",
      "Answer: \u001b[33;1m\u001b[1;3m408815910\u001b[0m\n",
      "\u001b[1m> Finished chain.\u001b[0m\n"
     ]
    },
    {
     "data": {
      "text/plain": [
       "'Answer: 408815910'"
      ]
     },
     "execution_count": 29,
     "metadata": {},
     "output_type": "execute_result"
    }
   ],
   "source": [
    "#LLMMathChain requires the numexpr package. Please install it with `pip install numexpr`\n",
    "from langchain import LLMMathChain\n",
    "math_chain = LLMMathChain(llm=llm, verbose=True)\n",
    "math_chain.run(\"Cuánto es 12462x81 al cuadrado x 5\")"
   ]
  },
  {
   "cell_type": "code",
   "execution_count": null,
   "metadata": {},
   "outputs": [],
   "source": [
    "from langchain.chains import TransformChain\n",
    "\n",
    "def delete_line_breaks(input):\n",
    "    text= input[\"texto\"]\n",
    "    return {\"clean_text\":text.replace(\"\\n\",\" \")}\n",
    "\n",
    "transform_chain = TransformChain(input_variables=[\"texto\"],\n",
    "                                 output_variables=[\"clean_text\"],\n",
    "                                 transform=delete_line_breaks)\n",
    "\n",
    "prompt(\"\\nEste es un\\n texto\\n con saltos \\nde línea, \\npapá\")"
   ]
  }
 ],
 "metadata": {
  "kernelspec": {
   "display_name": "venv",
   "language": "python",
   "name": "python3"
  },
  "language_info": {
   "codemirror_mode": {
    "name": "ipython",
    "version": 3
   },
   "file_extension": ".py",
   "mimetype": "text/x-python",
   "name": "python",
   "nbconvert_exporter": "python",
   "pygments_lexer": "ipython3",
   "version": "3.10.8"
  }
 },
 "nbformat": 4,
 "nbformat_minor": 2
}
